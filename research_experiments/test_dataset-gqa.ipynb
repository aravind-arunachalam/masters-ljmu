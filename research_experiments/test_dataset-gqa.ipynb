{
 "cells": [
  {
   "cell_type": "code",
   "execution_count": 1,
   "metadata": {},
   "outputs": [],
   "source": [
    "from dataset import Dictionary, VQAFeatureDataset, VisualGenomeFeatureDataset\n",
    "from dataset_gqa import GQAFeatureDataset\n",
    "from dataset_gqa import tfidf_from_questions_gqa\n",
    "from os.path import join, exists\n",
    "import torch\n",
    "import numpy as np"
   ]
  },
  {
   "cell_type": "code",
   "execution_count": 2,
   "metadata": {},
   "outputs": [
    {
     "name": "stdout",
     "output_type": "stream",
     "text": [
      "loading dictionary from data/glove/dictionary.pkl\n",
      "Initializing...\n",
      "Loaded questions and answers for: testdev_all.\n",
      "Loaded objects information.\n",
      "Loaded spatial information.\n",
      "Loaded spatial features.\n",
      "Loaded object features.\n",
      "Tokenization done.\n",
      "Tensorized question and answers.\n",
      "Tensorized spatial features.\n",
      "Tensorized object features.\n",
      "Intialized.\n"
     ]
    }
   ],
   "source": [
    "dictionary = Dictionary.load_from_file(join('data', 'glove/dictionary.pkl'))\n",
    "train_dset = GQAFeatureDataset('testdev_all', dictionary, 'semantic', adaptive=False, pos_emb_dim=64,dataroot='data')"
   ]
  },
  {
   "cell_type": "markdown",
   "metadata": {},
   "source": [
    "dictionary = Dictionary.load_from_file(join('data', 'glove/dictionary.pkl'))\n",
    "train_dset = VQAFeatureDataset('train', dictionary, 'semantic', adaptive=False, pos_emb_dim=64,dataroot='data')"
   ]
  },
  {
   "cell_type": "code",
   "execution_count": 3,
   "metadata": {},
   "outputs": [
    {
     "name": "stdout",
     "output_type": "stream",
     "text": [
      "{'question_key': '201467614', 'question': 'Is the window cloudy?', 'image_id': 'n295771', 'answer': {'labels': tensor([0]), 'scores': tensor([1.])}, 'q_token': tensor([    1,    11,    40,  1348, 19901, 19901, 19901, 19901, 19901, 19901,\n",
      "        19901, 19901, 19901, 19901])}\n",
      "Object features not in memory. Loading...\n",
      "Loaded object features.\n",
      "Tensorized object features.\n",
      "Spatial features not in memory. Loading...\n",
      "Loaded spatial features.\n",
      "Tensorized spatial features.\n"
     ]
    }
   ],
   "source": [
    "features, normalized_bb, question, target, question_id, image_id, bb, spatial_adj_matrix,semantic_adj_matrix = train_dset.__getitem__(10)\n",
    "\n",
    "#{'question_id': 142001, 'image_id': 142, 'image': 6372, 'question': 'Is this a banana toast?', 'answer': {'labels': tensor([9, 3]), 'scores': tensor([1., 1.])}, 'q_token': tensor([    1,     2,    14,   352,   684, 19901, 19901, 19901, 19901, 19901,\n",
    "#        19901, 19901, 19901, 19901])}"
   ]
  },
  {
   "cell_type": "code",
   "execution_count": 4,
   "metadata": {},
   "outputs": [
    {
     "name": "stdout",
     "output_type": "stream",
     "text": [
      "tensor([[7.0172e-03, 4.8951e-01, 3.7418e-01,  ..., 0.0000e+00, 5.0612e-01,\n",
      "         0.0000e+00],\n",
      "        [7.4866e-04, 0.0000e+00, 1.6488e-01,  ..., 0.0000e+00, 2.2551e-03,\n",
      "         0.0000e+00],\n",
      "        [0.0000e+00, 1.1332e+00, 2.6261e-02,  ..., 3.6527e-01, 2.4187e-03,\n",
      "         2.4918e-01],\n",
      "        ...,\n",
      "        [0.0000e+00, 0.0000e+00, 0.0000e+00,  ..., 0.0000e+00, 0.0000e+00,\n",
      "         0.0000e+00],\n",
      "        [0.0000e+00, 0.0000e+00, 0.0000e+00,  ..., 0.0000e+00, 0.0000e+00,\n",
      "         0.0000e+00],\n",
      "        [0.0000e+00, 0.0000e+00, 0.0000e+00,  ..., 0.0000e+00, 0.0000e+00,\n",
      "         0.0000e+00]])\n",
      "torch.Size([100, 2048])\n"
     ]
    }
   ],
   "source": [
    "print (features)\n",
    "print (features.shape)\n",
    "#(100,2048)"
   ]
  },
  {
   "cell_type": "code",
   "execution_count": 5,
   "metadata": {},
   "outputs": [
    {
     "name": "stdout",
     "output_type": "stream",
     "text": [
      "tensor([[[0.0166, 0.1510, 0.1152,  ..., 0.0000, 0.0000, 0.0000],\n",
      "         [0.0000, 0.0000, 0.3483,  ..., 0.7187, 0.1777, 0.0000],\n",
      "         [0.0000, 0.0000, 0.5946,  ..., 0.5334, 0.0000, 0.0000],\n",
      "         ...,\n",
      "         [0.0000, 0.2926, 1.1766,  ..., 1.8266, 0.0000, 0.0640],\n",
      "         [0.2443, 1.0220, 2.2265,  ..., 1.4858, 0.0000, 0.0000],\n",
      "         [0.3292, 0.7286, 1.1752,  ..., 1.0415, 0.0000, 0.0000]],\n",
      "\n",
      "        [[0.0000, 0.0000, 0.0000,  ..., 0.0000, 0.0000, 0.0000],\n",
      "         [0.0000, 0.0492, 0.0000,  ..., 0.5164, 0.0503, 0.0000],\n",
      "         [0.0000, 0.0000, 0.0000,  ..., 0.4921, 1.3259, 0.4958],\n",
      "         ...,\n",
      "         [0.0000, 0.0000, 0.0000,  ..., 0.1892, 0.3602, 0.4603],\n",
      "         [0.0000, 0.0000, 0.0000,  ..., 0.0949, 0.0692, 0.0000],\n",
      "         [0.0000, 0.0000, 0.0000,  ..., 0.0000, 0.0000, 0.0000]],\n",
      "\n",
      "        [[0.8802, 0.6113, 1.0594,  ..., 0.0000, 1.5388, 1.4326],\n",
      "         [0.7975, 0.4723, 1.3067,  ..., 0.5121, 1.2779, 1.2546],\n",
      "         [0.3376, 0.2295, 1.9661,  ..., 5.0621, 3.5765, 0.9717],\n",
      "         ...,\n",
      "         [0.3248, 1.2699, 2.4675,  ..., 3.0005, 0.1890, 0.0000],\n",
      "         [1.4244, 0.4073, 0.7709,  ..., 0.0000, 0.0000, 0.0000],\n",
      "         [0.0632, 0.3504, 0.3737,  ..., 0.3290, 0.0000, 0.0000]],\n",
      "\n",
      "        ...,\n",
      "\n",
      "        [[0.0000, 0.0000, 0.0000,  ..., 0.0000, 0.0000, 0.0000],\n",
      "         [0.0000, 0.0000, 0.0000,  ..., 0.0219, 0.0000, 0.0779],\n",
      "         [0.0000, 0.0000, 0.0000,  ..., 0.0000, 0.5211, 2.7280],\n",
      "         ...,\n",
      "         [0.0000, 0.0000, 0.0000,  ..., 0.3839, 1.9985, 3.2840],\n",
      "         [0.0544, 0.0000, 0.0000,  ..., 0.2613, 1.6572, 2.1638],\n",
      "         [0.1124, 0.0000, 0.0000,  ..., 0.3146, 0.8580, 0.8347]],\n",
      "\n",
      "        [[0.0404, 0.4558, 0.0000,  ..., 2.6126, 2.1584, 0.8628],\n",
      "         [0.7261, 1.1649, 0.0000,  ..., 2.2427, 2.3225, 1.2682],\n",
      "         [0.3379, 0.8311, 0.8428,  ..., 2.0576, 2.1644, 1.3422],\n",
      "         ...,\n",
      "         [0.0000, 0.0000, 0.0000,  ..., 0.0000, 1.5421, 1.9755],\n",
      "         [0.0000, 0.0000, 0.0000,  ..., 0.1111, 2.4187, 3.1169],\n",
      "         [0.1556, 0.0000, 0.0000,  ..., 0.8847, 2.7279, 3.1226]],\n",
      "\n",
      "        [[0.8598, 0.6238, 1.2621,  ..., 1.3755, 0.7026, 0.2683],\n",
      "         [0.0000, 0.4128, 0.8550,  ..., 2.3898, 1.9358, 0.7318],\n",
      "         [0.1849, 0.2971, 0.5755,  ..., 1.8929, 0.9193, 0.1554],\n",
      "         ...,\n",
      "         [0.0202, 0.6028, 0.8903,  ..., 0.0000, 0.0000, 0.0000],\n",
      "         [0.0000, 0.5224, 0.9497,  ..., 0.1858, 0.0000, 0.0000],\n",
      "         [0.0000, 0.5493, 0.4093,  ..., 0.0191, 0.0000, 0.0000]]])\n",
      "torch.Size([2048, 7, 7])\n"
     ]
    }
   ],
   "source": [
    "print (normalized_bb)\n",
    "print (normalized_bb.shape)\n",
    "#(2048,7,7)"
   ]
  },
  {
   "cell_type": "code",
   "execution_count": 7,
   "metadata": {},
   "outputs": [
    {
     "name": "stdout",
     "output_type": "stream",
     "text": [
      "tensor([[0.0734, 0.2176, 0.1998,  ..., 0.7388, 1.0544, 0.7815],\n",
      "        [0.0000, 0.0920, 0.3305,  ..., 0.1442, 0.0234, 0.0000],\n",
      "        [0.8943, 0.9562, 2.0511,  ..., 1.3823, 0.4246, 0.2461],\n",
      "        ...,\n",
      "        [0.0000, 0.0143, 0.4642,  ..., 0.8095, 0.5910, 0.3132],\n",
      "        [1.0215, 1.2815, 1.2756,  ..., 0.5025, 0.8067, 0.9844],\n",
      "        [1.0036, 1.1820, 0.7760,  ..., 0.2466, 0.3426, 0.2055]],\n",
      "       dtype=torch.float64)\n",
      "torch.Size([2048, 7])\n"
     ]
    }
   ],
   "source": [
    "numpy_array = np.zeros([2048,7])\n",
    "for i in list(range(2048)):\n",
    "    for j in list(range(7)):\n",
    "        numpy_array[i][j] = (normalized_bb[i][j][0] + normalized_bb[i][j][1] + normalized_bb[i][j][2] +\n",
    "                             normalized_bb[i][j][3] + normalized_bb[i][j][4] + normalized_bb[i][j][5] +\n",
    "                             normalized_bb[i][j][6])/7\n",
    " \n",
    "numpy_array = torch.from_numpy(numpy_array)\n",
    "\n",
    "print (numpy_array)\n",
    "print (numpy_array.shape)"
   ]
  },
  {
   "cell_type": "code",
   "execution_count": null,
   "metadata": {},
   "outputs": [],
   "source": [
    "print (question)\n",
    "print (question.shape)"
   ]
  },
  {
   "cell_type": "code",
   "execution_count": null,
   "metadata": {},
   "outputs": [],
   "source": [
    "print (target)\n",
    "print (target.shape)"
   ]
  },
  {
   "cell_type": "code",
   "execution_count": null,
   "metadata": {},
   "outputs": [],
   "source": [
    "print (question_id)"
   ]
  },
  {
   "cell_type": "code",
   "execution_count": null,
   "metadata": {},
   "outputs": [],
   "source": [
    "print (image_id)"
   ]
  },
  {
   "cell_type": "code",
   "execution_count": null,
   "metadata": {},
   "outputs": [],
   "source": [
    "print (bb)\n",
    "print (bb.shape)\n",
    "#(100,4)"
   ]
  },
  {
   "cell_type": "code",
   "execution_count": null,
   "metadata": {},
   "outputs": [],
   "source": [
    "print (spatial_adj_matrix)\n",
    "print (spatial_adj_matrix.shape)"
   ]
  },
  {
   "cell_type": "code",
   "execution_count": null,
   "metadata": {},
   "outputs": [],
   "source": [
    "print (semantic_adj_matrix)\n",
    "print (semantic_adj_matrix.shape)"
   ]
  },
  {
   "cell_type": "code",
   "execution_count": null,
   "metadata": {},
   "outputs": [],
   "source": [
    "dictionary = Dictionary.load_from_file(join('data', 'glove/dictionary.pkl'))\n",
    "tfidf, weights = tfidf_from_questions_gqa(['test_all', 'val_all'], dictionary, 'data', 'gqa')"
   ]
  },
  {
   "cell_type": "code",
   "execution_count": null,
   "metadata": {},
   "outputs": [],
   "source": [
    "a = np.random.randn(1, 1, 2, 3)\n",
    "\n",
    "t1 = torch.tensor(a)\n",
    "t2 = torch.tensor(a)\n",
    "t3 = torch.tensor(a, device=torch.device('cpu'))\n",
    "t1 = t3.to(torch.device('cpu'))"
   ]
  },
  {
   "cell_type": "code",
   "execution_count": null,
   "metadata": {},
   "outputs": [],
   "source": [
    "device = torch.device(\"cpu\")\n",
    "print (device)"
   ]
  },
  {
   "cell_type": "code",
   "execution_count": null,
   "metadata": {},
   "outputs": [],
   "source": []
  }
 ],
 "metadata": {
  "kernelspec": {
   "display_name": "Python 3",
   "language": "python",
   "name": "python3"
  },
  "language_info": {
   "codemirror_mode": {
    "name": "ipython",
    "version": 3
   },
   "file_extension": ".py",
   "mimetype": "text/x-python",
   "name": "python",
   "nbconvert_exporter": "python",
   "pygments_lexer": "ipython3",
   "version": "3.7.4"
  }
 },
 "nbformat": 4,
 "nbformat_minor": 4
}
