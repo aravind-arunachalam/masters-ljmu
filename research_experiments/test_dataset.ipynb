{
 "cells": [
  {
   "cell_type": "code",
   "execution_count": 1,
   "metadata": {},
   "outputs": [],
   "source": [
    "from dataset import Dictionary, VQAFeatureDataset, VisualGenomeFeatureDataset\n",
    "from dataset_gqa import GQAFeatureDataset\n",
    "from dataset_gqa import tfidf_from_questions_gqa\n",
    "from os.path import join, exists\n",
    "import torch\n",
    "import numpy as np"
   ]
  },
  {
   "cell_type": "code",
   "execution_count": null,
   "metadata": {},
   "outputs": [],
   "source": [
    "dictionary = Dictionary.load_from_file(join('data', 'glove/dictionary.pkl'))\n",
    "train_dset = GQAFeatureDataset('testdev_all', dictionary, 'semantic', adaptive=False, pos_emb_dim=64,dataroot='data')"
   ]
  },
  {
   "cell_type": "code",
   "execution_count": 2,
   "metadata": {},
   "outputs": [
    {
     "name": "stdout",
     "output_type": "stream",
     "text": [
      "loading dictionary from data/glove/dictionary.pkl\n",
      "loading features from h5 file data/Bottom-up-features-fixed/train36.hdf5\n",
      "Loaded semantic adj matrix from file... (82783, 36, 36)\n",
      "Setting spatial adj matrix to None...\n"
     ]
    }
   ],
   "source": [
    "dictionary = Dictionary.load_from_file(join('data', 'glove/dictionary.pkl'))\n",
    "train_dset = VQAFeatureDataset('train', dictionary, 'semantic', adaptive=False, pos_emb_dim=64,dataroot='data')"
   ]
  },
  {
   "cell_type": "code",
   "execution_count": 3,
   "metadata": {},
   "outputs": [
    {
     "name": "stdout",
     "output_type": "stream",
     "text": [
      "{'question_id': 142001, 'image_id': 142, 'image': 6372, 'question': 'Is this a banana toast?', 'answer': {'labels': tensor([9, 3]), 'scores': tensor([1., 1.])}, 'q_token': tensor([    1,     2,    14,   352,   684, 19901, 19901, 19901, 19901, 19901,\n",
      "        19901, 19901, 19901, 19901])}\n"
     ]
    }
   ],
   "source": [
    "features, normalized_bb, question, target, question_id, image_id, bb, spatial_adj_matrix,semantic_adj_matrix = train_dset.__getitem__(100)\n",
    "\n",
    "#{'question_id': 142001, 'image_id': 142, 'image': 6372, 'question': 'Is this a banana toast?', 'answer': {'labels': tensor([9, 3]), 'scores': tensor([1., 1.])}, 'q_token': tensor([    1,     2,    14,   352,   684, 19901, 19901, 19901, 19901, 19901,\n",
    "#        19901, 19901, 19901, 19901])}"
   ]
  },
  {
   "cell_type": "code",
   "execution_count": 4,
   "metadata": {},
   "outputs": [
    {
     "name": "stdout",
     "output_type": "stream",
     "text": [
      "tensor([[2.5822e-03, 8.8432e-01, 2.5149e-01,  ..., 0.0000e+00, 3.7400e+00,\n",
      "         6.0698e+00],\n",
      "        [3.2182e-02, 6.7804e+00, 1.5828e-01,  ..., 3.6700e-01, 1.7587e+01,\n",
      "         9.4776e-01],\n",
      "        [0.0000e+00, 1.2841e+00, 4.1078e-01,  ..., 2.6169e-03, 5.0143e+00,\n",
      "         5.7377e+00],\n",
      "        ...,\n",
      "        [0.0000e+00, 0.0000e+00, 0.0000e+00,  ..., 0.0000e+00, 1.0962e+00,\n",
      "         5.6786e-04],\n",
      "        [0.0000e+00, 1.9302e+00, 1.4887e-01,  ..., 0.0000e+00, 3.4882e-01,\n",
      "         2.9126e-03],\n",
      "        [0.0000e+00, 1.9552e+00, 2.7028e+00,  ..., 0.0000e+00, 1.5394e+00,\n",
      "         0.0000e+00]])\n",
      "torch.Size([36, 2048])\n"
     ]
    }
   ],
   "source": [
    "print (features)\n",
    "print (features.shape)\n",
    "#(100,2048)"
   ]
  },
  {
   "cell_type": "code",
   "execution_count": 5,
   "metadata": {},
   "outputs": [
    {
     "name": "stdout",
     "output_type": "stream",
     "text": [
      "tensor([[0.5958, 0.5996, 0.7637, 0.7143, 0.1679, 0.1147],\n",
      "        [0.3612, 0.5827, 0.8140, 0.8695, 0.4528, 0.2868],\n",
      "        [0.4487, 0.5912, 0.5865, 0.6646, 0.1378, 0.0734],\n",
      "        [0.0932, 0.5768, 0.9983, 0.9988, 0.9051, 0.4219],\n",
      "        [0.2918, 0.6015, 0.4582, 0.7191, 0.1664, 0.1176],\n",
      "        [0.5684, 0.7244, 0.7827, 0.8625, 0.2142, 0.1381],\n",
      "        [0.3095, 0.7556, 0.5284, 0.8928, 0.2189, 0.1372],\n",
      "        [0.1481, 0.5881, 0.5616, 0.8599, 0.4135, 0.2719],\n",
      "        [0.5546, 0.3001, 0.7995, 0.5200, 0.2449, 0.2199],\n",
      "        [0.4593, 0.6647, 0.6364, 0.7905, 0.1771, 0.1258],\n",
      "        [0.0000, 0.2714, 0.9983, 0.9175, 0.9983, 0.6462],\n",
      "        [0.2505, 0.7084, 0.4235, 0.7887, 0.1730, 0.0804],\n",
      "        [0.5399, 0.1192, 0.8700, 0.2538, 0.3301, 0.1346],\n",
      "        [0.9086, 0.7312, 0.9983, 0.9988, 0.0897, 0.2676],\n",
      "        [0.2620, 0.2803, 0.5316, 0.5566, 0.2697, 0.2763],\n",
      "        [0.5200, 0.1185, 0.9075, 0.4393, 0.3875, 0.3208],\n",
      "        [0.5986, 0.3447, 0.7918, 0.3970, 0.1931, 0.0523],\n",
      "        [0.2876, 0.0145, 0.5092, 0.1905, 0.2216, 0.1760],\n",
      "        [0.0888, 0.0000, 0.6515, 0.6661, 0.5627, 0.6661],\n",
      "        [0.5275, 0.2392, 0.8085, 0.5479, 0.2810, 0.3087],\n",
      "        [0.4910, 0.1988, 0.8814, 0.5196, 0.3904, 0.3207],\n",
      "        [0.0000, 0.6964, 0.1457, 0.9339, 0.1457, 0.2375],\n",
      "        [0.2517, 0.0000, 0.5500, 0.3083, 0.2983, 0.3083],\n",
      "        [0.2106, 0.0382, 0.5549, 0.5471, 0.3443, 0.5089],\n",
      "        [0.4315, 0.5938, 0.8681, 0.9246, 0.4365, 0.3308],\n",
      "        [0.2018, 0.6261, 0.6301, 0.9491, 0.4282, 0.3229],\n",
      "        [0.0000, 0.0000, 0.7439, 0.4849, 0.7439, 0.4849],\n",
      "        [0.5519, 0.1542, 0.8745, 0.2795, 0.3226, 0.1253],\n",
      "        [0.0000, 0.7161, 0.1078, 0.9945, 0.1078, 0.2784],\n",
      "        [0.6097, 0.1161, 0.9014, 0.5109, 0.2916, 0.3947],\n",
      "        [0.0000, 0.4024, 0.2655, 0.7618, 0.2655, 0.3594],\n",
      "        [0.2651, 0.6435, 0.9983, 0.9988, 0.7332, 0.3553],\n",
      "        [0.3409, 0.2574, 0.5037, 0.3221, 0.1628, 0.0647],\n",
      "        [0.0000, 0.0739, 0.2411, 0.5214, 0.2411, 0.4475],\n",
      "        [0.5819, 0.0059, 0.9983, 0.3067, 0.4164, 0.3007],\n",
      "        [0.5222, 0.3230, 0.8421, 0.4473, 0.3199, 0.1243]])\n",
      "torch.Size([36, 6])\n"
     ]
    }
   ],
   "source": [
    "print (normalized_bb)\n",
    "print (normalized_bb.shape)\n",
    "#(2048,7,7)"
   ]
  },
  {
   "cell_type": "code",
   "execution_count": null,
   "metadata": {},
   "outputs": [],
   "source": [
    "print (question)\n",
    "print (question.shape)"
   ]
  },
  {
   "cell_type": "code",
   "execution_count": null,
   "metadata": {},
   "outputs": [],
   "source": [
    "print (target)\n",
    "print (target.shape)"
   ]
  },
  {
   "cell_type": "code",
   "execution_count": null,
   "metadata": {},
   "outputs": [],
   "source": [
    "print (question_id)"
   ]
  },
  {
   "cell_type": "code",
   "execution_count": null,
   "metadata": {},
   "outputs": [],
   "source": [
    "print (image_id)"
   ]
  },
  {
   "cell_type": "code",
   "execution_count": 6,
   "metadata": {},
   "outputs": [
    {
     "name": "stdout",
     "output_type": "stream",
     "text": [
      "tensor([[285.9700, 383.7222, 366.5641, 457.1535],\n",
      "        [173.3700, 372.9434, 390.7298, 556.5077],\n",
      "        [215.3575, 378.3589, 281.5155, 425.3382],\n",
      "        [ 44.7460, 369.1530, 479.2000, 639.2000],\n",
      "        [140.0547, 384.9675, 219.9410, 460.2035],\n",
      "        [272.8360, 463.6076, 375.6729, 551.9810],\n",
      "        [148.5539, 483.5523, 253.6134, 571.3763],\n",
      "        [ 71.0944, 376.3689, 269.5775, 550.3603],\n",
      "        [266.1980, 192.0435, 383.7683, 332.7877],\n",
      "        [220.4796, 425.3890, 305.4836, 505.9324],\n",
      "        [  0.0000, 173.6925, 479.2000, 587.2295],\n",
      "        [120.2271, 453.3583, 203.2584, 504.7998],\n",
      "        [259.1699,  76.2862, 417.6064, 162.4225],\n",
      "        [436.1358, 467.9624, 479.2000, 639.2000],\n",
      "        [125.7446, 179.3962, 255.1829, 356.2068],\n",
      "        [249.5824,  75.8131, 435.5853, 281.1515],\n",
      "        [287.3286, 220.6237, 380.0404, 254.0769],\n",
      "        [138.0458,   9.2817, 244.4318, 121.9354],\n",
      "        [ 42.6394,   0.0000, 312.7134, 426.3010],\n",
      "        [253.2154, 153.0676, 388.0854, 350.6571],\n",
      "        [235.6764, 127.2410, 423.0504, 332.5180],\n",
      "        [  0.0000, 445.6796,  69.9318, 597.6970],\n",
      "        [120.8309,   0.0000, 264.0229, 197.3129],\n",
      "        [101.0863,  24.4346, 266.3458, 350.1443],\n",
      "        [207.1408, 380.0221, 416.6646, 591.7452],\n",
      "        [ 96.8776, 400.7253, 302.4333, 607.4001],\n",
      "        [  0.0000,   0.0000, 357.0776, 310.3243],\n",
      "        [264.9305,  98.7038, 419.7702, 178.8876],\n",
      "        [  0.0000, 458.2849,  51.7219, 636.4818],\n",
      "        [292.6753,  74.3350, 432.6524, 326.9715],\n",
      "        [  0.0000, 257.5446, 127.4326, 487.5366],\n",
      "        [127.2564, 411.8207, 479.2000, 639.2000],\n",
      "        [163.6319, 164.7595, 241.7633, 206.1363],\n",
      "        [  0.0000,  47.2964, 115.7081, 333.6686],\n",
      "        [279.3351,   3.7968, 479.2000, 196.2759],\n",
      "        [250.6625, 206.7323, 404.1955, 286.2983]])\n",
      "torch.Size([36, 4])\n"
     ]
    }
   ],
   "source": [
    "print (bb)\n",
    "print (bb.shape)\n",
    "#(100,4)"
   ]
  },
  {
   "cell_type": "code",
   "execution_count": null,
   "metadata": {},
   "outputs": [],
   "source": [
    "print (spatial_adj_matrix)\n",
    "print (spatial_adj_matrix.shape)"
   ]
  },
  {
   "cell_type": "code",
   "execution_count": null,
   "metadata": {},
   "outputs": [],
   "source": [
    "print (semantic_adj_matrix)\n",
    "print (semantic_adj_matrix.shape)"
   ]
  },
  {
   "cell_type": "code",
   "execution_count": null,
   "metadata": {},
   "outputs": [],
   "source": [
    "dictionary = Dictionary.load_from_file(join('data', 'glove/dictionary.pkl'))\n",
    "tfidf, weights = tfidf_from_questions_gqa(['test_all', 'val_all'], dictionary, 'data', 'gqa')"
   ]
  },
  {
   "cell_type": "code",
   "execution_count": null,
   "metadata": {},
   "outputs": [],
   "source": [
    "a = np.random.randn(1, 1, 2, 3)\n",
    "\n",
    "t1 = torch.tensor(a)\n",
    "t2 = torch.tensor(a)\n",
    "t3 = torch.tensor(a, device=torch.device('cpu'))\n",
    "t1 = t3.to(torch.device('cpu'))"
   ]
  },
  {
   "cell_type": "code",
   "execution_count": null,
   "metadata": {},
   "outputs": [],
   "source": [
    "device = torch.device(\"cpu\")\n",
    "print (device)"
   ]
  },
  {
   "cell_type": "code",
   "execution_count": null,
   "metadata": {},
   "outputs": [],
   "source": []
  }
 ],
 "metadata": {
  "kernelspec": {
   "display_name": "Python 3",
   "language": "python",
   "name": "python3"
  },
  "language_info": {
   "codemirror_mode": {
    "name": "ipython",
    "version": 3
   },
   "file_extension": ".py",
   "mimetype": "text/x-python",
   "name": "python",
   "nbconvert_exporter": "python",
   "pygments_lexer": "ipython3",
   "version": "3.7.4"
  }
 },
 "nbformat": 4,
 "nbformat_minor": 4
}
