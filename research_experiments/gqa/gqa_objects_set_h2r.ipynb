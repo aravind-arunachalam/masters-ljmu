{
 "cells": [
  {
   "cell_type": "code",
   "execution_count": 1,
   "metadata": {},
   "outputs": [],
   "source": [
    "import json\n",
    "import pandas as pd\n",
    "import numpy as np\n",
    "import h5py\n",
    "import pickle\n",
    "import torch\n",
    "import os"
   ]
  },
  {
   "cell_type": "code",
   "execution_count": null,
   "metadata": {},
   "outputs": [],
   "source": [
    "with open(\"/python-workdir/VQA_ReGAT/data/gqa/objects/gqa_objects_info.json\", \"r\") as gqa_objects_info:\n",
    "    data = gqa_objects_info.read()\n",
    "    gqa_objects_info_json = json.loads(data)"
   ]
  },
  {
   "cell_type": "code",
   "execution_count": null,
   "metadata": {},
   "outputs": [],
   "source": [
    "#gqa_objects_info_json['2370799']\n",
    "print (gqa_objects_info_json['2386621'])"
   ]
  },
  {
   "cell_type": "code",
   "execution_count": null,
   "metadata": {},
   "outputs": [],
   "source": [
    "gqa_objects_info_list = []\n",
    "for object_key in gqa_objects_info_json.keys():    \n",
    "    gqa_objects_info_dict = {}\n",
    "    gqa_objects_info_dict['object_key'] = object_key\n",
    "    gqa_objects_info_dict['file_number'] = gqa_objects_info_json[object_key]['file']\n",
    "    gqa_objects_info_dict['number_of_objects'] = gqa_objects_info_json[object_key]['objectsNum']\n",
    "    gqa_objects_info_dict['index_on_file'] = gqa_objects_info_json[object_key]['idx']\n",
    "    gqa_objects_info_dict['width'] = gqa_objects_info_json[object_key]['width']\n",
    "    gqa_objects_info_dict['height'] = gqa_objects_info_json[object_key]['height']\n",
    "    gqa_objects_info_list.append(gqa_objects_info_dict)\n",
    "\n",
    "gqa_objects_info_df = pd.DataFrame(gqa_objects_info_list)"
   ]
  },
  {
   "cell_type": "code",
   "execution_count": null,
   "metadata": {},
   "outputs": [],
   "source": [
    "gqa_objects_info_df.head()"
   ]
  },
  {
   "cell_type": "code",
   "execution_count": null,
   "metadata": {},
   "outputs": [],
   "source": [
    "gqa_objects_info_list = []\n",
    "gqa_objects_info = {}\n",
    "for object_key in gqa_objects_info_json.keys():    \n",
    "    gqa_objects_info_dict = {}\n",
    "    gqa_objects_info_dict['image_key'] = object_key\n",
    "    gqa_objects_info_dict['file_number'] = gqa_objects_info_json[object_key]['file']\n",
    "    gqa_objects_info_dict['index_on_file'] = gqa_objects_info_json[object_key]['idx']\n",
    "    gqa_objects_info_list.append(gqa_objects_info_dict)\n",
    "    \n",
    "    gqa_objects_info[object_key] = {}\n",
    "    gqa_objects_info[object_key]['file_number'] = gqa_objects_info_json[object_key]['file']\n",
    "    gqa_objects_info[object_key]['index_on_file'] = gqa_objects_info_json[object_key]['idx']\n",
    "\n",
    "print (len(gqa_objects_info_list))\n",
    "print (len(gqa_objects_info))\n",
    "\n",
    "with open(\"/python-workdir/VQA_ReGAT/data/gqa/objects/gqa_objects_info.pkl\",'wb') as wfp:\n",
    "    pickle.dump(gqa_objects_info, wfp)"
   ]
  },
  {
   "cell_type": "code",
   "execution_count": null,
   "metadata": {},
   "outputs": [],
   "source": [
    "print (gqa_objects_info['1'])"
   ]
  },
  {
   "cell_type": "code",
   "execution_count": null,
   "metadata": {},
   "outputs": [],
   "source": [
    "gqa_objects_info_df[gqa_objects_info_df['object_key'] == '2386621']"
   ]
  },
  {
   "cell_type": "code",
   "execution_count": null,
   "metadata": {},
   "outputs": [],
   "source": [
    "object_key = '2386621'\n",
    "\n",
    "object_dict = gqa_objects_info_df[(gqa_objects_info_df['object_key'] == object_key)].to_dict(orient='records')[0]\n",
    "object_file_name = '/python-workdir/VQA_ReGAT/data/gqa/objects/gqa_objects_' + str(object_dict['file_number']) + '.h5'\n",
    "object_index = int(object_dict['index_on_file'])\n",
    "\n",
    "with h5py.File(object_file_name, 'r') as object_file:\n",
    "    print(\"Keys: %s\" % object_file.keys())\n",
    "    bboxes = object_file['bboxes']\n",
    "    features = object_file['features']\n",
    "    print (bboxes[object_index])\n",
    "    print (bboxes[object_index].shape)\n",
    "    print (features[object_index])\n",
    "    print (features[object_index].shape)"
   ]
  },
  {
   "cell_type": "code",
   "execution_count": 2,
   "metadata": {},
   "outputs": [],
   "source": [
    "object_file_list = [0, 1, 2]\n",
    "spatial_feature = []\n",
    "object\n",
    "dataroot = '/python-workdir/VQA_ReGAT/data'\n",
    "for file_num in object_file_list:\n",
    "    spatial_file_name = 'gqa_spatial_' + str(file_num) + '.h5'\n",
    "    spatial_file_path = os.path.join(dataroot, 'gqa', 'spatial', str(spatial_file_name))\n",
    "    spatial_file = h5py.File(spatial_file_path, 'r')\n",
    "    spatial_feature.append(spatial_file['features'])"
   ]
  },
  {
   "cell_type": "code",
   "execution_count": 16,
   "metadata": {},
   "outputs": [
    {
     "name": "stdout",
     "output_type": "stream",
     "text": [
      "2048\n",
      "7\n",
      "7\n"
     ]
    }
   ],
   "source": [
    "value_t = torch.from_numpy(spatial_feature[0][0])\n",
    "print (value_t.size(0))\n",
    "print (value_t.size(1))\n",
    "print (value_t.size(2))"
   ]
  },
  {
   "cell_type": "code",
   "execution_count": null,
   "metadata": {},
   "outputs": [],
   "source": []
  }
 ],
 "metadata": {
  "kernelspec": {
   "display_name": "Python 3",
   "language": "python",
   "name": "python3"
  },
  "language_info": {
   "codemirror_mode": {
    "name": "ipython",
    "version": 3
   },
   "file_extension": ".py",
   "mimetype": "text/x-python",
   "name": "python",
   "nbconvert_exporter": "python",
   "pygments_lexer": "ipython3",
   "version": "3.7.4"
  }
 },
 "nbformat": 4,
 "nbformat_minor": 4
}
