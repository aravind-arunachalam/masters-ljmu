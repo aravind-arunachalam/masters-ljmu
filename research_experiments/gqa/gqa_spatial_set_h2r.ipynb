{
 "cells": [
  {
   "cell_type": "markdown",
   "metadata": {},
   "source": [
    "# import json\n",
    "import pandas as pd\n",
    "import numpy as np\n",
    "import h5py\n",
    "import pickle"
   ]
  },
  {
   "cell_type": "code",
   "execution_count": 2,
   "metadata": {},
   "outputs": [],
   "source": [
    "with open(\"/python-workdir/VQA_ReGAT/data/gqa/spatial/gqa_spatial_info.json\", \"r\") as gqa_spatial_info:\n",
    "    data = gqa_spatial_info.read()\n",
    "    gqa_spatial_info_json = json.loads(data)"
   ]
  },
  {
   "cell_type": "code",
   "execution_count": 3,
   "metadata": {},
   "outputs": [
    {
     "data": {
      "text/plain": [
       "{'idx': 489, 'file': 15}"
      ]
     },
     "execution_count": 3,
     "metadata": {},
     "output_type": "execute_result"
    }
   ],
   "source": [
    "gqa_spatial_info_json['n577839']"
   ]
  },
  {
   "cell_type": "code",
   "execution_count": 6,
   "metadata": {},
   "outputs": [],
   "source": [
    "gqa_spatial_info_list = []\n",
    "gqa_spatial_info = {}\n",
    "for spatial_key in gqa_spatial_info_json.keys():    \n",
    "    gqa_spatial_info_dict = {}\n",
    "    gqa_spatial_info_dict['image_key'] = spatial_key\n",
    "    gqa_spatial_info_dict['file_number'] = gqa_spatial_info_json[spatial_key]['file']\n",
    "    gqa_spatial_info_dict['index_on_file'] = gqa_spatial_info_json[spatial_key]['idx']\n",
    "    gqa_spatial_info_list.append(gqa_spatial_info_dict)\n",
    "    \n",
    "    gqa_spatial_info[spatial_key] = {}\n",
    "    gqa_spatial_info[spatial_key]['file_number'] = gqa_spatial_info_json[spatial_key]['file']\n",
    "    gqa_spatial_info[spatial_key]['index_on_file'] = gqa_spatial_info_json[spatial_key]['idx']\n",
    "\n",
    "gqa_spatial_info_df = pd.DataFrame(gqa_spatial_info_list)"
   ]
  },
  {
   "cell_type": "code",
   "execution_count": 7,
   "metadata": {},
   "outputs": [
    {
     "data": {
      "text/html": [
       "<div>\n",
       "<style scoped>\n",
       "    .dataframe tbody tr th:only-of-type {\n",
       "        vertical-align: middle;\n",
       "    }\n",
       "\n",
       "    .dataframe tbody tr th {\n",
       "        vertical-align: top;\n",
       "    }\n",
       "\n",
       "    .dataframe thead th {\n",
       "        text-align: right;\n",
       "    }\n",
       "</style>\n",
       "<table border=\"1\" class=\"dataframe\">\n",
       "  <thead>\n",
       "    <tr style=\"text-align: right;\">\n",
       "      <th></th>\n",
       "      <th>image_key</th>\n",
       "      <th>file_number</th>\n",
       "      <th>index_on_file</th>\n",
       "    </tr>\n",
       "  </thead>\n",
       "  <tbody>\n",
       "    <tr>\n",
       "      <td>0</td>\n",
       "      <td>1</td>\n",
       "      <td>0</td>\n",
       "      <td>0</td>\n",
       "    </tr>\n",
       "    <tr>\n",
       "      <td>1</td>\n",
       "      <td>2</td>\n",
       "      <td>0</td>\n",
       "      <td>1</td>\n",
       "    </tr>\n",
       "    <tr>\n",
       "      <td>2</td>\n",
       "      <td>3</td>\n",
       "      <td>0</td>\n",
       "      <td>2</td>\n",
       "    </tr>\n",
       "    <tr>\n",
       "      <td>3</td>\n",
       "      <td>4</td>\n",
       "      <td>0</td>\n",
       "      <td>3</td>\n",
       "    </tr>\n",
       "    <tr>\n",
       "      <td>4</td>\n",
       "      <td>5</td>\n",
       "      <td>0</td>\n",
       "      <td>4</td>\n",
       "    </tr>\n",
       "  </tbody>\n",
       "</table>\n",
       "</div>"
      ],
      "text/plain": [
       "  image_key  file_number  index_on_file\n",
       "0         1            0              0\n",
       "1         2            0              1\n",
       "2         3            0              2\n",
       "3         4            0              3\n",
       "4         5            0              4"
      ]
     },
     "execution_count": 7,
     "metadata": {},
     "output_type": "execute_result"
    }
   ],
   "source": [
    "gqa_spatial_info_df.head()"
   ]
  },
  {
   "cell_type": "code",
   "execution_count": 13,
   "metadata": {},
   "outputs": [
    {
     "data": {
      "text/plain": [
       "{'file_number': 0, 'index_on_file': 195}"
      ]
     },
     "execution_count": 13,
     "metadata": {},
     "output_type": "execute_result"
    }
   ],
   "source": [
    "key='196'\n",
    "gqa_spatial_info[key]"
   ]
  },
  {
   "cell_type": "code",
   "execution_count": 14,
   "metadata": {},
   "outputs": [],
   "source": [
    "with open(\"/python-workdir/VQA_ReGAT/data/gqa/spatial/gqa_spatial_info.pkl\",'wb') as wfp:\n",
    "    pickle.dump(gqa_spatial_info, wfp)"
   ]
  },
  {
   "cell_type": "code",
   "execution_count": 17,
   "metadata": {},
   "outputs": [
    {
     "data": {
      "text/plain": [
       "{'image_key': '1', 'file_number': 0, 'index_on_file': 0}"
      ]
     },
     "execution_count": 17,
     "metadata": {},
     "output_type": "execute_result"
    }
   ],
   "source": [
    "gqa_spatial_info_list[0]"
   ]
  },
  {
   "cell_type": "code",
   "execution_count": 6,
   "metadata": {},
   "outputs": [
    {
     "data": {
      "text/html": [
       "<div>\n",
       "<style scoped>\n",
       "    .dataframe tbody tr th:only-of-type {\n",
       "        vertical-align: middle;\n",
       "    }\n",
       "\n",
       "    .dataframe tbody tr th {\n",
       "        vertical-align: top;\n",
       "    }\n",
       "\n",
       "    .dataframe thead th {\n",
       "        text-align: right;\n",
       "    }\n",
       "</style>\n",
       "<table border=\"1\" class=\"dataframe\">\n",
       "  <thead>\n",
       "    <tr style=\"text-align: right;\">\n",
       "      <th></th>\n",
       "      <th>spatial_key</th>\n",
       "      <th>file_number</th>\n",
       "      <th>index_on_file</th>\n",
       "    </tr>\n",
       "  </thead>\n",
       "  <tbody>\n",
       "    <tr>\n",
       "      <th>148568</th>\n",
       "      <td>n577839</td>\n",
       "      <td>15</td>\n",
       "      <td>489</td>\n",
       "    </tr>\n",
       "  </tbody>\n",
       "</table>\n",
       "</div>"
      ],
      "text/plain": [
       "       spatial_key  file_number  index_on_file\n",
       "148568     n577839           15            489"
      ]
     },
     "execution_count": 6,
     "metadata": {},
     "output_type": "execute_result"
    }
   ],
   "source": [
    "gqa_spatial_info_df[gqa_spatial_info_df['spatial_key'] == 'n577839']"
   ]
  },
  {
   "cell_type": "code",
   "execution_count": 9,
   "metadata": {},
   "outputs": [
    {
     "name": "stdout",
     "output_type": "stream",
     "text": [
      "Keys: <KeysViewHDF5 ['features']>\n",
      "[[[0.0000000e+00 3.5980868e-01 8.6096758e-01 ... 3.4306517e+00\n",
      "   3.4761791e+00 2.3763862e+00]\n",
      "  [9.6513617e-01 1.3793358e+00 2.3885045e+00 ... 4.2314630e+00\n",
      "   4.4767628e+00 3.2420528e+00]\n",
      "  [3.6940198e+00 3.9053679e+00 2.2388370e+00 ... 4.6012878e+00\n",
      "   4.9880581e+00 3.5586147e+00]\n",
      "  ...\n",
      "  [3.8848813e+00 2.9055600e+00 2.7116363e+00 ... 3.6917284e+00\n",
      "   3.6369600e+00 2.0046110e+00]\n",
      "  [1.3010521e+00 1.3061236e+00 1.8520684e+00 ... 1.9235215e+00\n",
      "   2.9711714e+00 1.8568597e+00]\n",
      "  [0.0000000e+00 6.8544690e-03 6.3239002e-01 ... 1.1580596e+00\n",
      "   1.8199942e+00 1.9186816e+00]]\n",
      "\n",
      " [[8.0026112e-02 1.0475742e-01 2.6315111e-01 ... 3.2164035e+00\n",
      "   2.9575164e+00 1.4131577e+00]\n",
      "  [0.0000000e+00 0.0000000e+00 0.0000000e+00 ... 3.6217670e+00\n",
      "   2.5894759e+00 1.5720414e+00]\n",
      "  [0.0000000e+00 0.0000000e+00 0.0000000e+00 ... 1.1317663e+00\n",
      "   7.4347746e-01 5.0016582e-01]\n",
      "  ...\n",
      "  [0.0000000e+00 0.0000000e+00 0.0000000e+00 ... 0.0000000e+00\n",
      "   0.0000000e+00 0.0000000e+00]\n",
      "  [0.0000000e+00 0.0000000e+00 0.0000000e+00 ... 6.9476762e-03\n",
      "   0.0000000e+00 0.0000000e+00]\n",
      "  [0.0000000e+00 0.0000000e+00 0.0000000e+00 ... 0.0000000e+00\n",
      "   0.0000000e+00 0.0000000e+00]]\n",
      "\n",
      " [[2.7392325e-01 7.4618804e-01 0.0000000e+00 ... 0.0000000e+00\n",
      "   6.2118459e-01 9.7289377e-01]\n",
      "  [0.0000000e+00 0.0000000e+00 0.0000000e+00 ... 1.7923142e+00\n",
      "   1.3659326e+00 6.2917924e-01]\n",
      "  [1.8253665e-01 0.0000000e+00 0.0000000e+00 ... 1.6066115e+00\n",
      "   1.4300964e+00 1.0733799e+00]\n",
      "  ...\n",
      "  [7.4436796e-01 0.0000000e+00 0.0000000e+00 ... 2.4636273e+00\n",
      "   8.7222362e-01 9.1731572e-01]\n",
      "  [2.4853194e-01 0.0000000e+00 0.0000000e+00 ... 1.7399777e+00\n",
      "   6.3362288e-01 1.9518670e+00]\n",
      "  [1.6760728e-01 1.2045921e-01 1.2588681e-01 ... 5.6849927e-01\n",
      "   2.3126407e-01 5.5764139e-02]]\n",
      "\n",
      " ...\n",
      "\n",
      " [[2.4859178e-01 2.3946351e-01 0.0000000e+00 ... 0.0000000e+00\n",
      "   0.0000000e+00 0.0000000e+00]\n",
      "  [3.1559819e-01 0.0000000e+00 0.0000000e+00 ... 0.0000000e+00\n",
      "   0.0000000e+00 0.0000000e+00]\n",
      "  [0.0000000e+00 0.0000000e+00 0.0000000e+00 ... 0.0000000e+00\n",
      "   1.1352895e-01 5.2966923e-01]\n",
      "  ...\n",
      "  [0.0000000e+00 0.0000000e+00 8.1659317e-02 ... 0.0000000e+00\n",
      "   0.0000000e+00 0.0000000e+00]\n",
      "  [0.0000000e+00 0.0000000e+00 0.0000000e+00 ... 0.0000000e+00\n",
      "   0.0000000e+00 0.0000000e+00]\n",
      "  [4.9747705e-01 7.2489303e-01 1.5111199e-01 ... 0.0000000e+00\n",
      "   0.0000000e+00 0.0000000e+00]]\n",
      "\n",
      " [[0.0000000e+00 0.0000000e+00 0.0000000e+00 ... 1.3939440e+00\n",
      "   1.3331286e+00 9.0719986e-01]\n",
      "  [0.0000000e+00 0.0000000e+00 1.7218086e-01 ... 3.0989069e-01\n",
      "   1.0482404e+00 1.5060320e+00]\n",
      "  [0.0000000e+00 0.0000000e+00 3.5952669e-01 ... 2.8363404e-01\n",
      "   4.0043387e-01 6.1258531e-01]\n",
      "  ...\n",
      "  [4.8509198e-01 2.8632864e-01 3.4576073e-01 ... 2.7019234e+00\n",
      "   4.4328756e+00 2.1291358e+00]\n",
      "  [5.5541191e-02 2.5823098e-01 2.0240493e-01 ... 2.9952440e+00\n",
      "   3.9137444e+00 2.4717896e+00]\n",
      "  [0.0000000e+00 0.0000000e+00 0.0000000e+00 ... 1.2698578e+00\n",
      "   2.3675532e+00 1.8366524e+00]]\n",
      "\n",
      " [[2.0453898e-02 0.0000000e+00 1.7103924e-01 ... 8.4380805e-02\n",
      "   2.0760055e-01 2.4462438e-01]\n",
      "  [0.0000000e+00 0.0000000e+00 0.0000000e+00 ... 1.7406507e-01\n",
      "   4.4994980e-01 4.5360380e-01]\n",
      "  [2.0626017e-01 6.7662889e-01 1.5475004e+00 ... 4.5215526e-01\n",
      "   3.6262682e-01 3.6350125e-01]\n",
      "  ...\n",
      "  [4.8546964e-01 8.1902486e-01 1.4020137e-01 ... 4.0181917e-01\n",
      "   3.2664272e-01 2.2165589e-01]\n",
      "  [1.1862528e-01 3.8701463e-02 3.2714021e-03 ... 1.4919123e-01\n",
      "   3.0502975e-01 3.0416912e-01]\n",
      "  [0.0000000e+00 1.3700368e-02 0.0000000e+00 ... 6.2350910e-02\n",
      "   7.6378450e-02 2.5160241e-01]]]\n",
      "(2048, 7, 7)\n"
     ]
    }
   ],
   "source": [
    "spatial_key = '2386621'\n",
    "\n",
    "spatial_dict = gqa_spatial_info_df[(gqa_spatial_info_df['spatial_key'] == spatial_key)].to_dict(orient='records')[0]\n",
    "spatial_file_name = '/python-workdir/VQA_ReGAT/data/gqa/spatial/gqa_spatial_' + str(spatial_dict['file_number']) + '.h5'\n",
    "spatial_index = int(spatial_dict['index_on_file'])\n",
    "\n",
    "with h5py.File(spatial_file_name, 'r') as spatial_file:\n",
    "    print(\"Keys: %s\" % spatial_file.keys())\n",
    "    features = spatial_file['features']\n",
    "    print (features[spatial_index])\n",
    "    print (features[spatial_index].shape)"
   ]
  },
  {
   "cell_type": "code",
   "execution_count": null,
   "metadata": {},
   "outputs": [],
   "source": []
  }
 ],
 "metadata": {
  "kernelspec": {
   "display_name": "Python 3",
   "language": "python",
   "name": "python3"
  },
  "language_info": {
   "codemirror_mode": {
    "name": "ipython",
    "version": 3
   },
   "file_extension": ".py",
   "mimetype": "text/x-python",
   "name": "python",
   "nbconvert_exporter": "python",
   "pygments_lexer": "ipython3",
   "version": "3.7.4"
  }
 },
 "nbformat": 4,
 "nbformat_minor": 4
}
